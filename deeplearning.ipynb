{
 "cells": [
  {
   "cell_type": "code",
   "execution_count": null,
   "metadata": {},
   "outputs": [],
   "source": [
    "import numpy\n",
    "from keras import backend as K\n",
    "from keras.datasets import mnist\n",
    "from keras.utils import np_utils\n",
    "from keras.layers import Dense, Dropout,Flatten\n",
    "from keras.layers.convolutional import Conv2D, MaxPooling2D\n",
    "from keras.models import Sequential\n",
    "import pandas as pd\n",
    "\n",
    "model = Sequential()\n",
    "K.set_image_data_format('channels_last')\n",
    "numpy.random.seed(0)\n",
    "X = pd.read_csv('digit-recognizer/train.csv')\n",
    "test = pd.read_csv('digit-recognizer/test.csv')\n",
    "\n",
    "y = X[\"label\"]\n",
    "X.drop([\"label\"], inplace = True, axis = 1)\n",
    "\n",
    "from sklearn.model_selection import train_test_split\n",
    "\n",
    "X_train, X_test, y_train, y_test = train_test_split(X.values, y.values, test_size=0.2 , random_state=42)\n",
    "\n",
    "X_train = X_train.reshape(X_train.shape[0], 28, 28 , 1).astype('float32')\n",
    "X_test = X_test.reshape(X_test.shape[0], 28, 28 , 1).astype('float32')"
   ]
  },
  {
   "cell_type": "code",
   "execution_count": null,
   "metadata": {},
   "outputs": [],
   "source": [
    "import matplotlib.pyplot as plt\n",
    "print(\"the number of training examples = %i\" % X_train.shape[0])\n",
    "print(\"the number of classes = %i\" % len(numpy.unique(y_train)))\n",
    "print(\"Dimention of images = {:d} x {:d}  \".format(X_train[1].shape[0],X_train[1].shape[1])  )\n",
    "\n",
    "#This line will allow us to know the number of occurrences of each specific class in the data\n",
    "unique, count= numpy.unique(y_train, return_counts=True)\n",
    "print(\"The number of occurance of each class in the dataset = %s \" % dict (zip(unique, count) ), \"\\n\" )\n",
    "\n",
    "images_and_labels = list(zip(X_train,  y_train))\n",
    "for index, (image, label) in enumerate(images_and_labels[:4]):\n",
    "    plt.subplot(5, 4, index + 1)\n",
    "    plt.axis('off')\n",
    "    plt.imshow(image.squeeze(), cmap=plt.cm.gray_r, interpolation='nearest')\n",
    "    plt.title('label: %i' % label )\n",
    "plt.show()"
   ]
  },
  {
   "cell_type": "code",
   "execution_count": null,
   "metadata": {},
   "outputs": [],
   "source": [
    "from keras.layers import Dropout\n",
    "from keras.layers.core import Activation\n",
    "\n",
    "model.add(Conv2D(20, kernel_size=5, padding=\"same\",input_shape=(28, 28, 1), activation = 'relu'))\n",
    "model.add(MaxPooling2D(pool_size=(2, 2), strides=(2, 2)))\n",
    "model.add(Conv2D(20, kernel_size=3, padding=\"same\", activation = 'relu'))\n",
    "model.add(MaxPooling2D(pool_size=(2, 2), strides=(2, 2)))\n",
    "model.add(Conv2D(64, kernel_size=3, padding=\"valid\", activation = 'relu'))\n",
    "model.add(MaxPooling2D(pool_size=(2, 2), strides=(2, 2)))\n",
    "model.add(Flatten())\n",
    "model.add(Dense(units=10, activation='relu'  ))\n",
    "model.add(Dropout(0.1))\n",
    "model.add(Dense(10))\n",
    "model.add(Activation(\"softmax\"))\n",
    "model.compile(loss='categorical_crossentropy', optimizer='adam', metrics=['accuracy'])\n",
    "\n",
    "y_train = np_utils.to_categorical(y_train).astype('int32')\n",
    "y_test = np_utils.to_categorical(y_test)"
   ]
  },
  {
   "cell_type": "code",
   "execution_count": null,
   "metadata": {
    "scrolled": true
   },
   "outputs": [],
   "source": [
    "model.compile(loss='categorical_crossentropy', optimizer='adam', metrics=['accuracy'])\n",
    "\n",
    "X_train = X_train.reshape(-1,28,28,1)\n",
    "X_test = X_test.reshape(-1,28,28,1)\n",
    "\n",
    "from keras.preprocessing.image import ImageDataGenerator\n",
    "X_train2 = numpy.array(X_train, copy=True) \n",
    "y_train2 = numpy.array(y_train, copy=True) \n",
    "\n",
    "datagen = ImageDataGenerator(\n",
    "    featurewise_center=True,\n",
    "    featurewise_std_normalization=True,\n",
    "    rotation_range=20,\n",
    ")\n",
    "\n",
    "datagen.fit(X_train)\n",
    "\n",
    "# Concatenating the old data with the augmented data\n",
    "result_x  = numpy.concatenate((X_train, X_train2), axis=0)\n",
    "result_y  = numpy.concatenate((y_train, y_train2), axis=0)\n",
    "\n",
    "\n",
    "# # fits the model on batches with real-time data augmentation:\n",
    "history = model.fit_generator(datagen.flow(result_x, result_y, batch_size=128),\n",
    "                    steps_per_epoch=len(X_train) / 32, epochs = 20)"
   ]
  },
  {
   "cell_type": "code",
   "execution_count": null,
   "metadata": {},
   "outputs": [],
   "source": [
    "test_set = (test.values).reshape(-1, 28, 28 , 1).astype('float32')\n",
    "\n",
    "res = model.predict(test_set)\n",
    "res = numpy.argmax(res,axis = 1)\n",
    "res = pd.Series(res, name=\"Label\")\n",
    "submission = pd.concat([pd.Series(range(1 ,28001) ,name = \"ImageId\"),   res],axis = 1)\n",
    "submission.to_csv(\"cnn_mnist_datagen.csv\",index=False)\n",
    "submission.head(10)"
   ]
  }
 ],
 "metadata": {
  "kernelspec": {
   "display_name": "Python 3",
   "language": "python",
   "name": "python3"
  },
  "language_info": {
   "codemirror_mode": {
    "name": "ipython",
    "version": 3
   },
   "file_extension": ".py",
   "mimetype": "text/x-python",
   "name": "python",
   "nbconvert_exporter": "python",
   "pygments_lexer": "ipython3",
   "version": "3.7.2"
  }
 },
 "nbformat": 4,
 "nbformat_minor": 2
}
